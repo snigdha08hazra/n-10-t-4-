{
 "cells": [
  {
   "cell_type": "code",
   "execution_count": 1,
   "id": "7ced57ef",
   "metadata": {},
   "outputs": [],
   "source": [
    "from qiskit.quantum_info import Statevector, Operator\n",
    "from qiskit import QuantumCircuit, Aer, execute\n",
    "import numpy as np\n",
    "import math\n",
    "import matplotlib.pyplot as pl\n",
    "import random"
   ]
  },
  {
   "cell_type": "markdown",
   "id": "3f391b16",
   "metadata": {},
   "source": [
    "To plot coherence l1 norm (l1), relative entropy(S) and success probability(P) as a funciton of number of iteration(noi) taking the Grover's operator as G = DO"
   ]
  },
  {
   "cell_type": "markdown",
   "id": "bb4eb2d5",
   "metadata": {},
   "source": [
    "O = ( I-2|ψ⟩⟨ψ| ) and D = ( 2|ψ1⟩⟨ψ1|-I )"
   ]
  },
  {
   "attachments": {
    "image-3.png": {
     "image/png": "[encoded data removed]"
    },
    "image-4.png": {
     "image/png": "[encoded data removed]"
    },
    "image-5.png": {
     "image/png": "[encoded data removed]"
    },
    "image-6.png": {
     "image/png": "[encoded data removed]"
    },
    "image-7.png": {
     "image/png": "[encoded data removed]"
    },
    "image-8.png": {
     "image/png": "[encoded data removed]"
    },
    "image.png": {
     "image/png": "[encoded data removed]"
    }
   },
   "cell_type": "markdown",
   "id": "318c0daf",
   "metadata": {},
   "source": [
    "l1 norm of coherence is given by![image.png](attachment:image.png)\n",
    "\n",
    "relative entropy is given by![image-8.png](attachment:image-8.png) with \n",
    "\n",
    "![image-3.png](attachment:image-3.png)   ;   ![image-4.png](attachment:image-4.png)   ;   ![image-5.png](attachment:image-5.png)   ;   ![image-6.png](attachment:image-6.png)   \n",
    "Success probability is determined by the formula![image-7.png](attachment:image-7.png)\n",
    "with t = number of target states and j = iteration number"
   ]
  },
  {
   "cell_type": "code",
   "execution_count": 21,
   "id": "3904289c",
   "metadata": {},
   "outputs": [
    {
     "name": "stdout",
     "output_type": "stream",
     "text": [
      "noi =  15\n",
      "Optimal noi =  12\n",
      "target =  [781. 862. 858. 369.]\n",
      "phi =  [3.141592653589793]\n",
      "x =  [(-1+1.2246467991473532e-16j)]\n"
     ]
    }
   ],
   "source": [
    "n = 10     #no. of qubits\n",
    "N = 2**n   #dimension of matrix\n",
    "t = 4      #no. of target states\n",
    "length = list(range(n))\n",
    "noi = 15   #taking same number of iteration for all cases\n",
    "noi_opt = math.floor(math.sqrt(N/t) * np.pi / 4)   #optimal No of iterations\n",
    "print(\"noi = \", noi)\n",
    "print(\"Optimal noi = \",noi_opt)\n",
    "\n",
    "#to set target states by randomly generating them\n",
    "target = np.zeros(t)    #to store target states\n",
    "count = 0\n",
    "flag = 0\n",
    "i = 0\n",
    "while(True):\n",
    "    #to generate a random integer for target position\n",
    "    a = random.randint(0,N-1)\n",
    "    \n",
    "    #checking if that number has already been chosen previously as target state\n",
    "    for j in range(count):\n",
    "        if(target[j] == a):\n",
    "            flag = 1  #value is present in the target array\n",
    "            \n",
    "    #to store new value in target array\n",
    "    if(flag == 0):\n",
    "        #to store in count position of target array\n",
    "        target[count] = a\n",
    "        #updating count (position) value\n",
    "        count += 1\n",
    "        #checking for further iteration of while loop\n",
    "        if(count == t):\n",
    "            break\n",
    "print(\"target = \",target)\n",
    "\n",
    "phi = [np.pi]    #setting at a particular value\n",
    "print(\"phi = \",phi)\n",
    "\n",
    "x = [complex(np.cos(a), np.sin(a)) for a in phi]\n",
    "print(\"x = \",x)\n",
    "\n",
    "#array to store coherence values after each suboperation in every grover's iteration\n",
    "l1 = np.zeros(noi)    #to store l1 norm of coherence values after each iteration\n",
    "S  = np.zeros(noi)    #to store relative entropy values after each iteration\n",
    "P  = np.zeros(noi)    #to store success probability after each iteration\n",
    "x_axis = list(range(noi))    #to store iteration number"
   ]
  },
  {
   "cell_type": "code",
   "execution_count": 22,
   "id": "cb292786",
   "metadata": {
    "scrolled": true
   },
   "outputs": [
    {
     "name": "stdout",
     "output_type": "stream",
     "text": [
      "======================================== FOR ϕ =  180.0 ========================================\n"
     ]
    },
    {
     "data": {
      "text/plain": [
       "'initialised |ψ0⟩'"
      ]
     },
     "metadata": {},
     "output_type": "display_data"
    },
    {
     "data": {
      "text/latex": [
       "$$ |0000000000\\rangle$$"
      ],
      "text/plain": [
       "<IPython.core.display.Latex object>"
      ]
     },
     "metadata": {},
     "output_type": "display_data"
    },
    {
     "name": "stdout",
     "output_type": "stream",
     "text": [
      "coherence of |ψ0⟩ =  0.0\n"
     ]
    },
    {
     "data": {
      "text/plain": [
       "'applied Hadamard to all |ψ1⟩'"
      ]
     },
     "metadata": {},
     "output_type": "display_data"
    },
    {
     "data": {
      "text/latex": [
       "$$\\frac{1}{32} |0000000000\\rangle+\\frac{1}{32} |0000000001\\rangle+\\frac{1}{32} |0000000010\\rangle+\\frac{1}{32} |0000000011\\rangle+\\frac{1}{32} |0000000100\\rangle+\\frac{1}{32} |0000000101\\rangle + \\ldots +\\frac{1}{32} |1111111011\\rangle+\\frac{1}{32} |1111111100\\rangle+\\frac{1}{32} |1111111101\\rangle+\\frac{1}{32} |1111111110\\rangle+\\frac{1}{32} |1111111111\\rangle$$"
      ],
      "text/plain": [
       "<IPython.core.display.Latex object>"
      ]
     },
     "metadata": {},
     "output_type": "display_data"
    },
    {
     "name": "stdout",
     "output_type": "stream",
     "text": [
      "coherence of |ψ1⟩ =  1023.0000000000001\n",
      "-------- 1  ITERATION--------\n"
     ]
    },
    {
     "data": {
      "text/plain": [
       "'applied O operator to |ψ2⟩'"
      ]
     },
     "metadata": {},
     "output_type": "display_data"
    },
    {
     "data": {
      "text/latex": [
       "$$\\frac{1}{32} |0000000000\\rangle+\\frac{1}{32} |0000000001\\rangle+\\frac{1}{32} |0000000010\\rangle+\\frac{1}{32} |0000000011\\rangle+\\frac{1}{32} |0000000100\\rangle+\\frac{1}{32} |0000000101\\rangle + \\ldots +\\frac{1}{32} |1111111011\\rangle+\\frac{1}{32} |1111111100\\rangle+\\frac{1}{32} |1111111101\\rangle+\\frac{1}{32} |1111111110\\rangle+\\frac{1}{32} |1111111111\\rangle$$"
      ],
      "text/plain": [
       "<IPython.core.display.Latex object>"
      ]
     },
     "metadata": {},
     "output_type": "display_data"
    },
    {
     "data": {
      "text/plain": [
       "'applied D operator to |ψ2⟩'"
      ]
     },
     "metadata": {},
     "output_type": "display_data"
    },
    {
     "data": {
      "text/latex": [
       "$$\\frac{63}{2048} |0000000000\\rangle+\\frac{63}{2048} |0000000001\\rangle+\\frac{63}{2048} |0000000010\\rangle+\\frac{63}{2048} |0000000011\\rangle+\\frac{63}{2048} |0000000100\\rangle+\\frac{63}{2048} |0000000101\\rangle + \\ldots +\\frac{63}{2048} |1111111011\\rangle+\\frac{63}{2048} |1111111100\\rangle+\\frac{63}{2048} |1111111101\\rangle+\\frac{63}{2048} |1111111110\\rangle+\\frac{63}{2048} |1111111111\\rangle$$"
      ],
      "text/plain": [
       "<IPython.core.display.Latex object>"
      ]
     },
     "metadata": {},
     "output_type": "display_data"
    },
    {
     "name": "stdout",
     "output_type": "stream",
     "text": [
      "coherence of |ψ2⟩ =  1007.0625\n",
      "l1 norm =  1007.0625\n",
      "relative entropy =  9.868606213393203\n",
      "-------- 2  ITERATION--------\n"
     ]
    },
    {
     "data": {
      "text/plain": [
       "'applied O operator to |ψ2⟩'"
      ]
     },
     "metadata": {},
     "output_type": "display_data"
    },
    {
     "data": {
      "text/latex": [
       "$$\\frac{63}{2048} |0000000000\\rangle+\\frac{63}{2048} |0000000001\\rangle+\\frac{63}{2048} |0000000010\\rangle+\\frac{63}{2048} |0000000011\\rangle+\\frac{63}{2048} |0000000100\\rangle+\\frac{63}{2048} |0000000101\\rangle + \\ldots +\\frac{63}{2048} |1111111011\\rangle+\\frac{63}{2048} |1111111100\\rangle+\\frac{63}{2048} |1111111101\\rangle+\\frac{63}{2048} |1111111110\\rangle+\\frac{63}{2048} |1111111111\\rangle$$"
      ],
      "text/plain": [
       "<IPython.core.display.Latex object>"
      ]
     },
     "metadata": {},
     "output_type": "display_data"
    },
    {
     "data": {
      "text/plain": [
       "'applied D operator to |ψ2⟩'"
      ]
     },
     "metadata": {},
     "output_type": "display_data"
    },
    {
     "data": {
      "text/latex": [
       "$$0.029792785645 |0000000000\\rangle+0.029792785645 |0000000001\\rangle+0.029792785645 |0000000010\\rangle+0.029792785645 |0000000011\\rangle+0.029792785645 |0000000100\\rangle+0.029792785645 |0000000101\\rangle + \\ldots +0.029792785645 |1111111011\\rangle+0.029792785645 |1111111100\\rangle+0.029792785645 |1111111101\\rangle+0.029792785645 |1111111110\\rangle+0.029792785645 |1111111111\\rangle$$"
      ],
      "text/plain": [
       "<IPython.core.display.Latex object>"
      ]
     },
     "metadata": {},
     "output_type": "display_data"
    },
    {
     "name": "stdout",
     "output_type": "stream",
     "text": [
      "coherence of |ψ2⟩ =  960.2422027587892\n",
      "l1 norm =  960.2422027587892\n",
      "relative entropy =  9.597470257652965\n",
      "-------- 3  ITERATION--------\n"
     ]
    },
    {
     "data": {
      "text/plain": [
       "'applied O operator to |ψ2⟩'"
      ]
     },
     "metadata": {},
     "output_type": "display_data"
    },
    {
     "data": {
      "text/latex": [
       "$$0.029792785645 |0000000000\\rangle+0.029792785645 |0000000001\\rangle+0.029792785645 |0000000010\\rangle+0.029792785645 |0000000011\\rangle+0.029792785645 |0000000100\\rangle+0.029792785645 |0000000101\\rangle + \\ldots +0.029792785645 |1111111011\\rangle+0.029792785645 |1111111100\\rangle+0.029792785645 |1111111101\\rangle+0.029792785645 |1111111110\\rangle+0.029792785645 |1111111111\\rangle$$"
      ],
      "text/plain": [
       "<IPython.core.display.Latex object>"
      ]
     },
     "metadata": {},
     "output_type": "display_data"
    },
    {
     "data": {
      "text/plain": [
       "'applied D operator to |ψ2⟩'"
      ]
     },
     "metadata": {},
     "output_type": "display_data"
    },
    {
     "data": {
      "text/latex": [
       "$$0.028358340263 |0000000000\\rangle+0.028358340263 |0000000001\\rangle+0.028358340263 |0000000010\\rangle+0.028358340263 |0000000011\\rangle+0.028358340263 |0000000100\\rangle+0.028358340263 |0000000101\\rangle + \\ldots +0.028358340263 |1111111011\\rangle+0.028358340263 |1111111100\\rangle+0.028358340263 |1111111101\\rangle+0.028358340263 |1111111110\\rangle+0.028358340263 |1111111111\\rangle$$"
      ],
      "text/plain": [
       "<IPython.core.display.Latex object>"
      ]
     },
     "metadata": {},
     "output_type": "display_data"
    },
    {
     "name": "stdout",
     "output_type": "stream",
     "text": [
      "coherence of |ψ2⟩ =  885.4539461046595\n",
      "l1 norm =  885.4539461046595\n",
      "relative entropy =  9.16363755797109\n",
      "-------- 4  ITERATION--------\n"
     ]
    },
    {
     "data": {
      "text/plain": [
       "'applied O operator to |ψ2⟩'"
      ]
     },
     "metadata": {},
     "output_type": "display_data"
    },
    {
     "data": {
      "text/latex": [
       "$$0.028358340263 |0000000000\\rangle+0.028358340263 |0000000001\\rangle+0.028358340263 |0000000010\\rangle+0.028358340263 |0000000011\\rangle+0.028358340263 |0000000100\\rangle+0.028358340263 |0000000101\\rangle + \\ldots +0.028358340263 |1111111011\\rangle+0.028358340263 |1111111100\\rangle+0.028358340263 |1111111101\\rangle+0.028358340263 |1111111110\\rangle+0.028358340263 |1111111111\\rangle$$"
      ],
      "text/plain": [
       "<IPython.core.display.Latex object>"
      ]
     },
     "metadata": {},
     "output_type": "display_data"
    },
    {
     "data": {
      "text/plain": [
       "'applied D operator to |ψ2⟩'"
      ]
     },
     "metadata": {},
     "output_type": "display_data"
    },
    {
     "data": {
      "text/latex": [
       "$$0.026480795816 |0000000000\\rangle+0.026480795816 |0000000001\\rangle+0.026480795816 |0000000010\\rangle+0.026480795816 |0000000011\\rangle+0.026480795816 |0000000100\\rangle+0.026480795816 |0000000101\\rangle + \\ldots +0.026480795816 |1111111011\\rangle+0.026480795816 |1111111100\\rangle+0.026480795816 |1111111101\\rangle+0.026480795816 |1111111110\\rangle+0.026480795816 |1111111111\\rangle$$"
      ],
      "text/plain": [
       "<IPython.core.display.Latex object>"
      ]
     },
     "metadata": {},
     "output_type": "display_data"
    },
    {
     "name": "stdout",
     "output_type": "stream",
     "text": [
      "coherence of |ψ2⟩ =  787.3537372742267\n",
      "l1 norm =  787.3537372742267\n",
      "relative entropy =  8.579851837639637\n",
      "-------- 5  ITERATION--------\n"
     ]
    },
    {
     "data": {
      "text/plain": [
       "'applied O operator to |ψ2⟩'"
      ]
     },
     "metadata": {},
     "output_type": "display_data"
    },
    {
     "data": {
      "text/latex": [
       "$$0.026480795816 |0000000000\\rangle+0.026480795816 |0000000001\\rangle+0.026480795816 |0000000010\\rangle+0.026480795816 |0000000011\\rangle+0.026480795816 |0000000100\\rangle+0.026480795816 |0000000101\\rangle + \\ldots +0.026480795816 |1111111011\\rangle+0.026480795816 |1111111100\\rangle+0.026480795816 |1111111101\\rangle+0.026480795816 |1111111110\\rangle+0.026480795816 |1111111111\\rangle$$"
      ],
      "text/plain": [
       "<IPython.core.display.Latex object>"
      ]
     },
     "metadata": {},
     "output_type": "display_data"
    },
    {
     "data": {
      "text/plain": [
       "'applied D operator to |ψ2⟩'"
      ]
     },
     "metadata": {},
     "output_type": "display_data"
    },
    {
     "data": {
      "text/latex": [
       "$$0.024189488933 |0000000000\\rangle+0.024189488933 |0000000001\\rangle+0.024189488933 |0000000010\\rangle+0.024189488933 |0000000011\\rangle+0.024189488933 |0000000100\\rangle+0.024189488933 |0000000101\\rangle + \\ldots +0.024189488933 |1111111011\\rangle+0.024189488933 |1111111100\\rangle+0.024189488933 |1111111101\\rangle+0.024189488933 |1111111110\\rangle+0.024189488933 |1111111111\\rangle$$"
      ],
      "text/plain": [
       "<IPython.core.display.Latex object>"
      ]
     },
     "metadata": {},
     "output_type": "display_data"
    },
    {
     "name": "stdout",
     "output_type": "stream",
     "text": [
      "coherence of |ψ2⟩ =  672.0488890033957\n",
      "l1 norm =  672.0488890033957\n",
      "relative entropy =  7.8730203229339235\n",
      "-------- 6  ITERATION--------\n"
     ]
    },
    {
     "data": {
      "text/plain": [
       "'applied O operator to |ψ2⟩'"
      ]
     },
     "metadata": {},
     "output_type": "display_data"
    },
    {
     "data": {
      "text/latex": [
       "$$0.024189488933 |0000000000\\rangle+0.024189488933 |0000000001\\rangle+0.024189488933 |0000000010\\rangle+0.024189488933 |0000000011\\rangle+0.024189488933 |0000000100\\rangle+0.024189488933 |0000000101\\rangle + \\ldots +0.024189488933 |1111111011\\rangle+0.024189488933 |1111111100\\rangle+0.024189488933 |1111111101\\rangle+0.024189488933 |1111111110\\rangle+0.024189488933 |1111111111\\rangle$$"
      ],
      "text/plain": [
       "<IPython.core.display.Latex object>"
      ]
     },
     "metadata": {},
     "output_type": "display_data"
    },
    {
     "data": {
      "text/plain": [
       "'applied D operator to |ψ2⟩'"
      ]
     },
     "metadata": {},
     "output_type": "display_data"
    },
    {
     "data": {
      "text/latex": [
       "$$0.021520221286 |0000000000\\rangle+0.021520221286 |0000000001\\rangle+0.021520221286 |0000000010\\rangle+0.021520221286 |0000000011\\rangle+0.021520221286 |0000000100\\rangle+0.021520221286 |0000000101\\rangle + \\ldots +0.021520221286 |1111111011\\rangle+0.021520221286 |1111111100\\rangle+0.021520221286 |1111111101\\rangle+0.021520221286 |1111111110\\rangle+0.021520221286 |1111111111\\rangle$$"
      ],
      "text/plain": [
       "<IPython.core.display.Latex object>"
      ]
     },
     "metadata": {},
     "output_type": "display_data"
    },
    {
     "name": "stdout",
     "output_type": "stream",
     "text": [
      "coherence of |ψ2⟩ =  546.7178037746212\n",
      "l1 norm =  546.7178037746212\n",
      "relative entropy =  7.08148829580517\n",
      "-------- 7  ITERATION--------\n"
     ]
    },
    {
     "data": {
      "text/plain": [
       "'applied O operator to |ψ2⟩'"
      ]
     },
     "metadata": {},
     "output_type": "display_data"
    },
    {
     "data": {
      "text/latex": [
       "$$0.021520221286 |0000000000\\rangle+0.021520221286 |0000000001\\rangle+0.021520221286 |0000000010\\rangle+0.021520221286 |0000000011\\rangle+0.021520221286 |0000000100\\rangle+0.021520221286 |0000000101\\rangle + \\ldots +0.021520221286 |1111111011\\rangle+0.021520221286 |1111111100\\rangle+0.021520221286 |1111111101\\rangle+0.021520221286 |1111111110\\rangle+0.021520221286 |1111111111\\rangle$$"
      ],
      "text/plain": [
       "<IPython.core.display.Latex object>"
      ]
     },
     "metadata": {},
     "output_type": "display_data"
    },
    {
     "data": {
      "text/plain": [
       "'applied D operator to |ψ2⟩'"
      ]
     },
     "metadata": {},
     "output_type": "display_data"
    },
    {
     "data": {
      "text/latex": [
       "$$0.018514700182 |0000000000\\rangle+0.018514700182 |0000000001\\rangle+0.018514700182 |0000000010\\rangle+0.018514700182 |0000000011\\rangle+0.018514700182 |0000000100\\rangle+0.018514700182 |0000000101\\rangle + \\ldots +0.018514700182 |1111111011\\rangle+0.018514700182 |1111111100\\rangle+0.018514700182 |1111111101\\rangle+0.018514700182 |1111111110\\rangle+0.018514700182 |1111111111\\rangle$$"
      ],
      "text/plain": [
       "<IPython.core.display.Latex object>"
      ]
     },
     "metadata": {},
     "output_type": "display_data"
    },
    {
     "name": "stdout",
     "output_type": "stream",
     "text": [
      "coherence of |ψ2⟩ =  419.1630759583107\n",
      "l1 norm =  419.1630759583107\n",
      "relative entropy =  6.2525582543302916\n",
      "-------- 8  ITERATION--------\n"
     ]
    },
    {
     "data": {
      "text/plain": [
       "'applied O operator to |ψ2⟩'"
      ]
     },
     "metadata": {},
     "output_type": "display_data"
    },
    {
     "data": {
      "text/latex": [
       "$$0.018514700182 |0000000000\\rangle+0.018514700182 |0000000001\\rangle+0.018514700182 |0000000010\\rangle+0.018514700182 |0000000011\\rangle+0.018514700182 |0000000100\\rangle+0.018514700182 |0000000101\\rangle + \\ldots +0.018514700182 |1111111011\\rangle+0.018514700182 |1111111100\\rangle+0.018514700182 |1111111101\\rangle+0.018514700182 |1111111110\\rangle+0.018514700182 |1111111111\\rangle$$"
      ],
      "text/plain": [
       "<IPython.core.display.Latex object>"
      ]
     },
     "metadata": {},
     "output_type": "display_data"
    },
    {
     "data": {
      "text/plain": [
       "'applied D operator to |ψ2⟩'"
      ]
     },
     "metadata": {},
     "output_type": "display_data"
    },
    {
     "data": {
      "text/latex": [
       "$$0.015219886887 |0000000000\\rangle+0.015219886887 |0000000001\\rangle+0.015219886887 |0000000010\\rangle+0.015219886887 |0000000011\\rangle+0.015219886887 |0000000100\\rangle+0.015219886887 |0000000101\\rangle + \\ldots +0.015219886887 |1111111011\\rangle+0.015219886887 |1111111100\\rangle+0.015219886887 |1111111101\\rangle+0.015219886887 |1111111110\\rangle+0.015219886887 |1111111111\\rangle$$"
      ],
      "text/plain": [
       "<IPython.core.display.Latex object>"
      ]
     },
     "metadata": {},
     "output_type": "display_data"
    },
    {
     "name": "stdout",
     "output_type": "stream",
     "text": [
      "coherence of |ψ2⟩ =  297.3257347615651\n",
      "l1 norm =  297.3257347615651\n",
      "relative entropy =  5.440066931891442\n",
      "-------- 9  ITERATION--------\n"
     ]
    },
    {
     "data": {
      "text/plain": [
       "'applied O operator to |ψ2⟩'"
      ]
     },
     "metadata": {},
     "output_type": "display_data"
    },
    {
     "data": {
      "text/latex": [
       "$$0.015219886887 |0000000000\\rangle+0.015219886887 |0000000001\\rangle+0.015219886887 |0000000010\\rangle+0.015219886887 |0000000011\\rangle+0.015219886887 |0000000100\\rangle+0.015219886887 |0000000101\\rangle + \\ldots +0.015219886887 |1111111011\\rangle+0.015219886887 |1111111100\\rangle+0.015219886887 |1111111101\\rangle+0.015219886887 |1111111110\\rangle+0.015219886887 |1111111111\\rangle$$"
      ],
      "text/plain": [
       "<IPython.core.display.Latex object>"
      ]
     },
     "metadata": {},
     "output_type": "display_data"
    },
    {
     "data": {
      "text/plain": [
       "'applied D operator to |ψ2⟩'"
      ]
     },
     "metadata": {},
     "output_type": "display_data"
    },
    {
     "data": {
      "text/latex": [
       "$$0.011687262859 |0000000000\\rangle+0.011687262859 |0000000001\\rangle+0.011687262859 |0000000010\\rangle+0.011687262859 |0000000011\\rangle+0.011687262859 |0000000100\\rangle+0.011687262859 |0000000101\\rangle + \\ldots +0.011687262859 |1111111011\\rangle+0.011687262859 |1111111100\\rangle+0.011687262859 |1111111101\\rangle+0.011687262859 |1111111110\\rangle+0.011687262859 |1111111111\\rangle$$"
      ],
      "text/plain": [
       "<IPython.core.display.Latex object>"
      ]
     },
     "metadata": {},
     "output_type": "display_data"
    },
    {
     "name": "stdout",
     "output_type": "stream",
     "text": [
      "coherence of |ψ2⟩ =  188.79086858678008\n",
      "l1 norm =  188.79086858678008\n",
      "relative entropy =  4.702209207603499\n",
      "-------- 10  ITERATION--------\n"
     ]
    },
    {
     "data": {
      "text/plain": [
       "'applied O operator to |ψ2⟩'"
      ]
     },
     "metadata": {},
     "output_type": "display_data"
    },
    {
     "data": {
      "text/latex": [
       "$$0.011687262859 |0000000000\\rangle+0.011687262859 |0000000001\\rangle+0.011687262859 |0000000010\\rangle+0.011687262859 |0000000011\\rangle+0.011687262859 |0000000100\\rangle+0.011687262859 |0000000101\\rangle + \\ldots +0.011687262859 |1111111011\\rangle+0.011687262859 |1111111100\\rangle+0.011687262859 |1111111101\\rangle+0.011687262859 |1111111110\\rangle+0.011687262859 |1111111111\\rangle$$"
      ],
      "text/plain": [
       "<IPython.core.display.Latex object>"
      ]
     },
     "metadata": {},
     "output_type": "display_data"
    },
    {
     "data": {
      "text/plain": [
       "'applied D operator to |ψ2⟩'"
      ]
     },
     "metadata": {},
     "output_type": "display_data"
    },
    {
     "data": {
      "text/latex": [
       "$$0.00797202535 |0000000000\\rangle+0.00797202535 |0000000001\\rangle+0.00797202535 |0000000010\\rangle+0.00797202535 |0000000011\\rangle+0.00797202535 |0000000100\\rangle+0.00797202535 |0000000101\\rangle + \\ldots +0.00797202535 |1111111011\\rangle+0.00797202535 |1111111100\\rangle+0.00797202535 |1111111101\\rangle+0.00797202535 |1111111110\\rangle+0.00797202535 |1111111111\\rangle$$"
      ],
      "text/plain": [
       "<IPython.core.display.Latex object>"
      ]
     },
     "metadata": {},
     "output_type": "display_data"
    },
    {
     "name": "stdout",
     "output_type": "stream",
     "text": [
      "coherence of |ψ2⟩ =  100.31540878683825\n",
      "l1 norm =  100.31540878683825\n",
      "relative entropy =  4.1002162388866825\n",
      "-------- 11  ITERATION--------\n"
     ]
    },
    {
     "data": {
      "text/plain": [
       "'applied O operator to |ψ2⟩'"
      ]
     },
     "metadata": {},
     "output_type": "display_data"
    },
    {
     "data": {
      "text/latex": [
       "$$0.00797202535 |0000000000\\rangle+0.00797202535 |0000000001\\rangle+0.00797202535 |0000000010\\rangle+0.00797202535 |0000000011\\rangle+0.00797202535 |0000000100\\rangle+0.00797202535 |0000000101\\rangle + \\ldots +0.00797202535 |1111111011\\rangle+0.00797202535 |1111111100\\rangle+0.00797202535 |1111111101\\rangle+0.00797202535 |1111111110\\rangle+0.00797202535 |1111111111\\rangle$$"
      ],
      "text/plain": [
       "<IPython.core.display.Latex object>"
      ]
     },
     "metadata": {},
     "output_type": "display_data"
    },
    {
     "data": {
      "text/plain": [
       "'applied D operator to |ψ2⟩'"
      ]
     },
     "metadata": {},
     "output_type": "display_data"
    },
    {
     "data": {
      "text/latex": [
       "$$0.004132224944 |0000000000\\rangle+0.004132224944 |0000000001\\rangle+0.004132224944 |0000000010\\rangle+0.004132224944 |0000000011\\rangle+0.004132224944 |0000000100\\rangle+0.004132224944 |0000000101\\rangle + \\ldots +0.004132224944 |1111111011\\rangle+0.004132224944 |1111111100\\rangle+0.004132224944 |1111111101\\rangle+0.004132224944 |1111111110\\rangle+0.004132224944 |1111111111\\rangle$$"
      ],
      "text/plain": [
       "<IPython.core.display.Latex object>"
      ]
     },
     "metadata": {},
     "output_type": "display_data"
    },
    {
     "name": "stdout",
     "output_type": "stream",
     "text": [
      "coherence of |ψ2⟩ =  37.40747114613043\n",
      "l1 norm =  37.40747114613043\n",
      "relative entropy =  3.6997558233394665\n",
      "-------- 12  ITERATION--------\n"
     ]
    },
    {
     "data": {
      "text/plain": [
       "'applied O operator to |ψ2⟩'"
      ]
     },
     "metadata": {},
     "output_type": "display_data"
    },
    {
     "data": {
      "text/latex": [
       "$$0.004132224944 |0000000000\\rangle+0.004132224944 |0000000001\\rangle+0.004132224944 |0000000010\\rangle+0.004132224944 |0000000011\\rangle+0.004132224944 |0000000100\\rangle+0.004132224944 |0000000101\\rangle + \\ldots +0.004132224944 |1111111011\\rangle+0.004132224944 |1111111100\\rangle+0.004132224944 |1111111101\\rangle+0.004132224944 |1111111110\\rangle+0.004132224944 |1111111111\\rangle$$"
      ],
      "text/plain": [
       "<IPython.core.display.Latex object>"
      ]
     },
     "metadata": {},
     "output_type": "display_data"
    },
    {
     "data": {
      "text/plain": [
       "'applied D operator to |ψ2⟩'"
      ]
     },
     "metadata": {},
     "output_type": "display_data"
    },
    {
     "data": {
      "text/latex": [
       "$$0.000227858523 |0000000000\\rangle+0.000227858523 |0000000001\\rangle+0.000227858523 |0000000010\\rangle+0.000227858523 |0000000011\\rangle+0.000227858523 |0000000100\\rangle+0.000227858523 |0000000101\\rangle + \\ldots +0.000227858523 |1111111011\\rangle+0.000227858523 |1111111100\\rangle+0.000227858523 |1111111101\\rangle+0.000227858523 |1111111110\\rangle+0.000227858523 |1111111111\\rangle$$"
      ],
      "text/plain": [
       "<IPython.core.display.Latex object>"
      ]
     },
     "metadata": {},
     "output_type": "display_data"
    },
    {
     "name": "stdout",
     "output_type": "stream",
     "text": [
      "coherence of |ψ2⟩ =  3.9834433809179846\n",
      "l1 norm =  3.9834433809179846\n",
      "relative entropy =  3.5861299831099753\n",
      "-------- 13  ITERATION--------\n"
     ]
    },
    {
     "data": {
      "text/plain": [
       "'applied O operator to |ψ2⟩'"
      ]
     },
     "metadata": {},
     "output_type": "display_data"
    },
    {
     "data": {
      "text/latex": [
       "$$0.000227858523 |0000000000\\rangle+0.000227858523 |0000000001\\rangle+0.000227858523 |0000000010\\rangle+0.000227858523 |0000000011\\rangle+0.000227858523 |0000000100\\rangle+0.000227858523 |0000000101\\rangle + \\ldots +0.000227858523 |1111111011\\rangle+0.000227858523 |1111111100\\rangle+0.000227858523 |1111111101\\rangle+0.000227858523 |1111111110\\rangle+0.000227858523 |1111111111\\rangle$$"
      ],
      "text/plain": [
       "<IPython.core.display.Latex object>"
      ]
     },
     "metadata": {},
     "output_type": "display_data"
    },
    {
     "data": {
      "text/plain": [
       "'applied D operator to |ψ2⟩'"
      ]
     },
     "metadata": {},
     "output_type": "display_data"
    },
    {
     "data": {
      "text/latex": [
       "$$-0.003680068187 |0000000000\\rangle-0.003680068187 |0000000001\\rangle-0.003680068187 |0000000010\\rangle-0.003680068187 |0000000011\\rangle-0.003680068187 |0000000100\\rangle-0.003680068187 |0000000101\\rangle + \\ldots -0.003680068187 |1111111011\\rangle-0.003680068187 |1111111100\\rangle-0.003680068187 |1111111101\\rangle-0.003680068187 |1111111110\\rangle-0.003680068187 |1111111111\\rangle$$"
      ],
      "text/plain": [
       "<IPython.core.display.Latex object>"
      ]
     },
     "metadata": {},
     "output_type": "display_data"
    },
    {
     "name": "stdout",
     "output_type": "stream",
     "text": [
      "coherence of |ψ2⟩ =  31.945393043698825\n",
      "l1 norm =  31.945393043698825\n",
      "relative entropy =  3.892334420444363\n",
      "-------- 14  ITERATION--------\n"
     ]
    },
    {
     "data": {
      "text/plain": [
       "'applied O operator to |ψ2⟩'"
      ]
     },
     "metadata": {},
     "output_type": "display_data"
    },
    {
     "data": {
      "text/latex": [
       "$$-0.003680068187 |0000000000\\rangle-0.003680068187 |0000000001\\rangle-0.003680068187 |0000000010\\rangle-0.003680068187 |0000000011\\rangle-0.003680068187 |0000000100\\rangle-0.003680068187 |0000000101\\rangle + \\ldots -0.003680068187 |1111111011\\rangle-0.003680068187 |1111111100\\rangle-0.003680068187 |1111111101\\rangle-0.003680068187 |1111111110\\rangle-0.003680068187 |1111111111\\rangle$$"
      ],
      "text/plain": [
       "<IPython.core.display.Latex object>"
      ]
     },
     "metadata": {},
     "output_type": "display_data"
    },
    {
     "data": {
      "text/plain": [
       "'applied D operator to |ψ2⟩'"
      ]
     },
     "metadata": {},
     "output_type": "display_data"
    },
    {
     "data": {
      "text/latex": [
       "$$-0.007530493831 |0000000000\\rangle-0.007530493831 |0000000001\\rangle-0.007530493831 |0000000010\\rangle-0.007530493831 |0000000011\\rangle-0.007530493831 |0000000100\\rangle-0.007530493831 |0000000101\\rangle + \\ldots -0.007530493831 |1111111011\\rangle-0.007530493831 |1111111100\\rangle-0.007530493831 |1111111101\\rangle-0.007530493831 |1111111110\\rangle-0.007530493831 |1111111111\\rangle$$"
      ],
      "text/plain": [
       "<IPython.core.display.Latex object>"
      ]
     },
     "metadata": {},
     "output_type": "display_data"
    },
    {
     "name": "stdout",
     "output_type": "stream",
     "text": [
      "coherence of |ψ2⟩ =  91.59057526449476\n",
      "l1 norm =  91.59057526449476\n",
      "relative entropy =  4.48322449587308\n",
      "-------- 15  ITERATION--------\n"
     ]
    },
    {
     "data": {
      "text/plain": [
       "'applied O operator to |ψ2⟩'"
      ]
     },
     "metadata": {},
     "output_type": "display_data"
    },
    {
     "data": {
      "text/latex": [
       "$$-0.007530493831 |0000000000\\rangle-0.007530493831 |0000000001\\rangle-0.007530493831 |0000000010\\rangle-0.007530493831 |0000000011\\rangle-0.007530493831 |0000000100\\rangle-0.007530493831 |0000000101\\rangle + \\ldots -0.007530493831 |1111111011\\rangle-0.007530493831 |1111111100\\rangle-0.007530493831 |1111111101\\rangle-0.007530493831 |1111111110\\rangle-0.007530493831 |1111111111\\rangle$$"
      ],
      "text/plain": [
       "<IPython.core.display.Latex object>"
      ]
     },
     "metadata": {},
     "output_type": "display_data"
    },
    {
     "data": {
      "text/plain": [
       "'applied D operator to |ψ2⟩'"
      ]
     },
     "metadata": {},
     "output_type": "display_data"
    },
    {
     "data": {
      "text/latex": [
       "$$-0.01126325551 |0000000000\\rangle-0.01126325551 |0000000001\\rangle-0.01126325551 |0000000010\\rangle-0.01126325551 |0000000011\\rangle-0.01126325551 |0000000100\\rangle-0.01126325551 |0000000101\\rangle + \\ldots -0.01126325551 |1111111011\\rangle-0.01126325551 |1111111100\\rangle-0.01126325551 |1111111101\\rangle-0.01126325551 |1111111110\\rangle-0.01126325551 |1111111111\\rangle$$"
      ],
      "text/plain": [
       "<IPython.core.display.Latex object>"
      ]
     },
     "metadata": {},
     "output_type": "display_data"
    },
    {
     "name": "stdout",
     "output_type": "stream",
     "text": [
      "coherence of |ψ2⟩ =  177.34645165426465\n",
      "l1 norm =  177.34645165426465\n",
      "relative entropy =  5.248358088670141\n"
     ]
    }
   ],
   "source": [
    "def iteration(i,a):\n",
    "    qc.barrier()\n",
    "    #count = i*2\n",
    "    copy_i = i    #storing copy of iteration number\n",
    "    copy_a = a    #storing copy of phi value\n",
    "    \n",
    "    #applying O operator\n",
    "    qc.append(O_operator,length)\n",
    "    result = execute(qc, backend).result()\n",
    "    state = result.get_statevector()\n",
    "    display(\"applied O operator to |ψ2⟩\", state.draw('latex'))\n",
    "    \n",
    "    #Applying D operator\n",
    "    qc.append(D_operator,length)\n",
    "    result = execute(qc, backend).result()\n",
    "    state = result.get_statevector()\n",
    "    display(\"applied D operator to |ψ2⟩\", state.draw('latex'))\n",
    "    density_operator = state.to_operator()\n",
    "    \n",
    "    #calculating coherence by l1 norm\n",
    "    coherence = 0\n",
    "    for i in range(N):\n",
    "        for j in range(N):\n",
    "            if(i != j):\n",
    "                coherence += abs(density_operator.data[i,j])\n",
    "    print(\"coherence of |ψ2⟩ = \",coherence)\n",
    "    l1[copy_i] = coherence\n",
    "    print(\"l1 norm = \",coherence)\n",
    "    \n",
    "    #calculating coherence by relative entropy\n",
    "    j = copy_i+1   #to store the actual iteration number \n",
    "    alpha = 2*np.arctan(np.sqrt(t/(N-t)))\n",
    "    alpha_j = (j+1/2.0)*alpha    \n",
    "    a = np.sin(alpha_j)\n",
    "    a_2 = a**2\n",
    "    H = -(a_2*math.log2(a_2)+(1-a_2)*math.log2(1-a_2))\n",
    "    Cr = H+math.log2(N-j)+a_2*math.log2(j/(N-j))\n",
    "    S[copy_i] = Cr\n",
    "    print(\"relative entropy = \",Cr)\n",
    "    \n",
    "    #calculating success probability\n",
    "    P[copy_i] = np.sin(alpha_j)**2\n",
    "    \n",
    "for a in range(len(phi)):\n",
    "    print(\"======================================== FOR ϕ = \", phi[a]*180/np.pi,\"========================================\")\n",
    "    qc = QuantumCircuit(n)\n",
    "    backend = Aer.get_backend('statevector_simulator')\n",
    "    result = execute(qc, backend).result()\n",
    "    state = result.get_statevector()\n",
    "    display(\"initialised |ψ0⟩\", state.draw('latex'))\n",
    "    density_operator = state.to_operator()\n",
    "    #print(density_operator.data)\n",
    "    coherence = 0\n",
    "    for i in range(N):\n",
    "        for j in range(N):\n",
    "            if(i != j):\n",
    "                coherence += abs(density_operator.data[i,j])\n",
    "    print(\"coherence of |ψ0⟩ = \",coherence)\n",
    "\n",
    "    qc.h(length)\n",
    "    result = execute(qc, backend).result()\n",
    "    state = result.get_statevector()\n",
    "    display(\"applied Hadamard to all |ψ1⟩\", state.draw('latex'))\n",
    "    density_operator = state.to_operator()\n",
    "    #print(density_operator.data)\n",
    "    coherence = 0\n",
    "    for i in range(N):\n",
    "        for j in range(N):\n",
    "            if(i != j):\n",
    "                coherence += abs(density_operator.data[i,j])\n",
    "    print(\"coherence of |ψ1⟩ = \",coherence)\n",
    "\n",
    "    #defining generalised O Operator\n",
    "    count = 0\n",
    "    choice = a\n",
    "    O_operator = Operator(np.zeros((N,N)))\n",
    "    for i in range(N):\n",
    "        for j in range(N):\n",
    "            if(i != j):   #off diagonal elements\n",
    "                O_operator.data[i][j] = 0\n",
    "            else:    #diagonal elements\n",
    "                flag = 0\n",
    "                for k in range(t):\n",
    "                    if(i == target[k]):\n",
    "                        O_operator.data[i][j] = x[choice]\n",
    "                        count += 1\n",
    "                        flag = 1\n",
    "                        break\n",
    "                if(flag == 0):\n",
    "                    O_operator.data[i][j] = 1            \n",
    "   \n",
    "    #defining D operator\n",
    "    D_operator = Operator(np.zeros((N,N)))\n",
    "    for i in range(N):\n",
    "        for j in range(N):\n",
    "            if(i == j):    #for diagonal elements\n",
    "                D_operator.data[i][j] = 2*density_operator.data[i][j]-1\n",
    "            else:          #for off-diagonal elements\n",
    "                D_operator.data[i][j] = 2*density_operator.data[i][j]\n",
    "    \n",
    "    #sending out for x iterations of grover's operator\n",
    "    for i in range(noi):\n",
    "        print(\"--------\",(i+1),\" ITERATION--------\")\n",
    "        iteration(i,a)    #a takes angle phi and i takes noi"
   ]
  },
  {
   "cell_type": "code",
   "execution_count": 23,
   "id": "fd1f8d7d",
   "metadata": {},
   "outputs": [
    {
     "name": "stdout",
     "output_type": "stream",
     "text": [
      "l1 =  [0.98345947265625, 0.93773652613163, 0.8647011192428316, 0.768900134056862, 0.6562977431673787, 0.5339041052486535, 0.4093389413655378, 0.29035716285309093, 0.18436608260427742, 0.09796426639339673, 0.036530733541143, 0.0038900814266777193, 0.031196672894237134, 0.08944392115673316, 0.17318989419361783]\n",
      "S_N =  [0.0096373107552668, 0.009372529548489224, 0.008948864802706142, 0.008378761560194958, 0.00768849640911516, 0.006915515913872236, 0.006106013920244425, 0.005312565363175236, 0.004592001179300292, 0.004004117420787776, 0.0036130427962299478, 0.0035020800616308353, 0.003801107832465198, 0.004378148921751055, 0.005125349695966935]\n",
      "P =  [0.03479099 0.09463772 0.17972063 0.2847428  0.403166   0.52761768\n",
      " 0.65034999 0.76372214 0.86067604 0.93517575 0.98258321 0.99994704\n",
      " 0.98618624 0.9421575  0.87060186]\n"
     ]
    },
    {
     "data": {
      "image/png": "[encoded data removed]",
      "text/plain": [
       "<Figure size 640x480 with 2 Axes>"
      ]
     },
     "metadata": {},
     "output_type": "display_data"
    }
   ],
   "source": [
    "l1_N = [a/N for a in l1]\n",
    "S_N  = [a/N for a in S]\n",
    "xa   = [a+1 for a in x_axis]\n",
    "\n",
    "print(\"l1 = \",l1_N)\n",
    "print(\"S_N = \",S_N)\n",
    "print(\"P = \",P)\n",
    "\n",
    "fig, ax1 = pl.subplots()\n",
    "pl.title(\"n = {} and t = {}\".format(n, t))\n",
    "color1 = 'tab:red'\n",
    "color2 = 'black'\n",
    "ax1.set_xlabel('----Number of iterations----')\n",
    "ax1.scatter(xa, l1_N, marker='d', color=color1, label='l1_norm/N')\n",
    "ax1.plot(xa, l1_N, color=color1)\n",
    "ax1.scatter(xa, P, color=color2, label='success probability')\n",
    "ax1.plot(xa, P, color=color2)\n",
    "pl.legend()\n",
    "ax1.set_ylabel(\"l1 norm and success probability\")\n",
    "pl.grid(True)\n",
    "\n",
    "ax2 = ax1.twinx()\n",
    "color = 'tab:blue'\n",
    "ax2.scatter(xa, S_N, color=color, label='S/N')\n",
    "ax2.plot(xa, S_N, color=color)\n",
    "pl.legend()\n",
    "ax2.set_ylabel('relatove entropy', color=color)\n",
    "ax2.tick_params(axis='y', labelcolor=color)\n",
    "\n",
    "fig.tight_layout()\n",
    "#pl.grid(True)\n",
    "pl.show()"
   ]
  },
  {
   "cell_type": "code",
   "execution_count": null,
   "id": "499a3f15",
   "metadata": {},
   "outputs": [],
   "source": []
  }
 ],
 "metadata": {
  "kernelspec": {
   "display_name": "Python 3 (ipykernel)",
   "language": "python",
   "name": "python3"
  },
  "language_info": {
   "codemirror_mode": {
    "name": "ipython",
    "version": 3
   },
   "file_extension": ".py",
   "mimetype": "text/x-python",
   "name": "python",
   "nbconvert_exporter": "python",
   "pygments_lexer": "ipython3",
   "version": "3.9.13"
  }
 },
 "nbformat": 4,
 "nbformat_minor": 5
}
